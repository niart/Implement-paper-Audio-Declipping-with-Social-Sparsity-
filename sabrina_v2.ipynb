{
 "cells": [
  {
   "attachments": {},
   "cell_type": "markdown",
   "metadata": {},
   "source": [
    "# Change backbone to MobileNet\n",
    "### First, setup libraries"
   ]
  },
  {
   "cell_type": "code",
   "execution_count": 1,
   "metadata": {},
   "outputs": [],
   "source": [
    "import torch\n",
    "import torch.nn as nn\n",
    "from torch import optim\n",
    "import torchvision.models as models\n",
    "from torchvision import transforms\n",
    "from torch.utils.data import DataLoader, Dataset, random_split, Subset\n",
    "\n",
    "# A module to print a model summary (outputs shape, number of parameters, ...)\n",
    "import torchsummary\n",
    "\n",
    "# TensorBoard for visualization\n",
    "from torch.utils.tensorboard import SummaryWriter\n",
    "#from tensorboardX import SummaryWriter\n",
    "tensorboard = SummaryWriter()\n",
    "\n",
    "from tqdm import tqdm\n",
    "\n",
    "import pandas as pd\n",
    "import numpy as np\n",
    "import os\n",
    "import matplotlib.pyplot as plt\n",
    "plt.rcParams.update({\n",
    "    \"pgf.texsystem\": \"pdflatex\",\n",
    "    'font.family': 'serif',\n",
    "    'text.usetex': True,\n",
    "    'pgf.rcfonts': False,\n",
    "})\n",
    "# plt.rcParams['text.usetex'] = True  # Render Matplotlib text with Tex\n",
    "from PIL import Image\n",
    "from sklearn.model_selection import train_test_split\n",
    "import time\n",
    "\n",
    "import cv2\n"
   ]
  },
  {
   "attachments": {},
   "cell_type": "markdown",
   "metadata": {},
   "source": [
    "### Prepare data"
   ]
  },
  {
   "cell_type": "code",
   "execution_count": 2,
   "metadata": {},
   "outputs": [],
   "source": [
    "# Define the data to be used\n",
    "DATASET = \"./datasets/dataset_3+8bags_3var3sc/\"\n",
    "\n",
    "\n",
    "class TraversabilityDataset(Dataset):\n",
    "    \"\"\"Custom Dataset class to represent our dataset\n",
    "    It includes data and information about the data\n",
    "\n",
    "    Args:\n",
    "        Dataset (class): Abstract class which represents a dataset\n",
    "    \"\"\"\n",
    "    \n",
    "    def __init__(self, traversal_costs_file, images_directory,\n",
    "                 transform=None):\n",
    "        \"\"\"Constructor of the class\n",
    "\n",
    "        Args:\n",
    "            traversal_costs_file (string): Path to the csv file which contains\n",
    "            images index and their associated traversal cost\n",
    "            images_directory (string): Directory with all the images\n",
    "            transform (callable, optional): Transforms to be applied on a\n",
    "            sample. Defaults to None.\n",
    "        \"\"\"\n",
    "        # Read the csv file\n",
    "        self.traversal_costs_frame = pd.read_csv(traversal_costs_file)\n",
    "        \n",
    "        # Initialize the name of the images directory\n",
    "        self.images_directory = images_directory\n",
    "        \n",
    "        # Initialize the transforms\n",
    "        self.transform = transform\n",
    "\n",
    "    def __len__(self):\n",
    "        \"\"\"Return the size of the dataset\n",
    "\n",
    "        Returns:\n",
    "            int: Number of samples\n",
    "        \"\"\"\n",
    "        # Count the number of files in the image directory\n",
    "        # return len(os.listdir(self.images_directory))\n",
    "        return len(self.traversal_costs_frame)\n",
    "\n",
    "    def __getitem__(self, idx):\n",
    "        \"\"\"Allow to access a sample by its index\n",
    "\n",
    "        Args:\n",
    "            idx (int): Index of a sample\n",
    "\n",
    "        Returns:\n",
    "            list: Sample at index idx\n",
    "            ([image, traversal_cost])\n",
    "        \"\"\"\n",
    "        # Get the image name at index idx\n",
    "        image_name = os.path.join(self.images_directory,\n",
    "                                  self.traversal_costs_frame.loc[idx, \"image_id\"])\n",
    "        \n",
    "        # Read the image\n",
    "        image = Image.open(image_name)\n",
    "        \n",
    "        # Eventually apply transforms to the image\n",
    "        if self.transform:\n",
    "            image = self.transform(image)\n",
    "        \n",
    "        # Get the corresponding traversal cost\n",
    "        traversal_cost = self.traversal_costs_frame.loc[idx, \"traversal_cost\"]\n",
    "        \n",
    "        # Get the corresponding traversability label\n",
    "        traversability_label = self.traversal_costs_frame.loc[idx, \"traversability_label\"]\n",
    "\n",
    "        return image, traversal_cost, traversability_label"
   ]
  },
  {
   "cell_type": "code",
   "execution_count": 3,
   "metadata": {},
   "outputs": [],
   "source": [
    "def compute_mean_std(images_directory, traversal_costs_file):\n",
    "    transform = transforms.Compose([\n",
    "        # Reduce the size of the images\n",
    "        # (if size is an int, the smaller edge of the\n",
    "        # image will be matched to this number and the ration is kept)\n",
    "        transforms.Resize((70, 210)),\n",
    "\n",
    "        # Convert a PIL Image or numpy.ndarray to tensor\n",
    "        transforms.ToTensor(),\n",
    "    ])\n",
    "    \n",
    "    # Create a Dataset for training\n",
    "    dataset = TraversabilityDataset(\n",
    "        traversal_costs_file=DATASET+traversal_costs_file,\n",
    "        images_directory=DATASET+images_directory,\n",
    "        transform=transform\n",
    "    )\n",
    "    \n",
    "    loader = DataLoader(\n",
    "        dataset=dataset,\n",
    "        batch_size=1,\n",
    "        shuffle=False,\n",
    "        num_workers=12,\n",
    "        pin_memory=True\n",
    "    )\n",
    "\n",
    "    cnt = 0\n",
    "    first_moment = torch.empty(3)\n",
    "    second_moment = torch.empty(3)\n",
    "\n",
    "    for images, traversal_costs, traversability_labels in loader:\n",
    "        b, c, h, w = images.shape\n",
    "        nb_pixels = b * h * w\n",
    "        sum_ = torch.sum(images, dim=[0, 2, 3])\n",
    "        sum_of_square = torch.sum(images ** 2, dim=[0, 2, 3])\n",
    "        first_moment = (cnt * first_moment + sum_) / (cnt + nb_pixels)\n",
    "        second_moment = (cnt * second_moment + sum_of_square) / (cnt + nb_pixels)\n",
    "        cnt += nb_pixels\n",
    "\n",
    "    mean = first_moment\n",
    "    std = torch.sqrt(second_moment - first_moment ** 2)\n",
    "    \n",
    "    return mean, std"
   ]
  },
  {
   "cell_type": "code",
   "execution_count": 4,
   "metadata": {},
   "outputs": [
    {
     "name": "stdout",
     "output_type": "stream",
     "text": [
      "tensor([0.3426, 0.3569, 0.2914]) tensor([0.1363, 0.1248, 0.1302])\n"
     ]
    }
   ],
   "source": [
    "mean, std = compute_mean_std(\"images_train\", \"traversal_costs_train.csv\")\n",
    "print(mean, std)"
   ]
  },
  {
   "cell_type": "code",
   "execution_count": 5,
   "metadata": {},
   "outputs": [],
   "source": [
    "# Compose several transforms together to be applied to training data\n",
    "# (Note that transforms are not applied yet)\n",
    "train_transform = transforms.Compose([\n",
    "    # Reduce the size of the images\n",
    "    # (if size is an int, the smaller edge of the\n",
    "    # image will be matched to this number and the ration is kept)\n",
    "    # transforms.Resize(100),\n",
    "    transforms.Resize((70, 210)),\n",
    "    \n",
    "    # Perform horizontal flip of the image with a probability of 0.5\n",
    "    transforms.RandomHorizontalFlip(p=0.5),\n",
    "    \n",
    "    # Modify the brightness and the contrast of the image\n",
    "    transforms.ColorJitter(contrast=0.5, brightness=0.5),\n",
    "    \n",
    "    # Convert a PIL Image or numpy.ndarray to tensor\n",
    "    transforms.ToTensor(),\n",
    "    \n",
    "    # Add some random gaussian noise to the image\n",
    "    transforms.Lambda(lambda x: x + (0.001**0.5)*torch.randn(x.shape)),\n",
    "    \n",
    "    # Normalize a tensor image with pre-computed mean and standard deviation\n",
    "    # (based on the data used to train the model(s))\n",
    "    # (be careful, it only works on torch.*Tensor)\n",
    "    transforms.Normalize(\n",
    "        mean=mean,\n",
    "        std=std,\n",
    "        # mean=[0.485, 0.456, 0.406],\n",
    "        # std=[0.229, 0.224, 0.225],\n",
    "    ),\n",
    "])\n",
    "\n",
    "# Define a different set of transforms testing\n",
    "# (for instance we do not need to flip the image)\n",
    "test_transform = transforms.Compose([\n",
    "    # transforms.Resize(100),\n",
    "    transforms.Resize((70, 210)),\n",
    "    # transforms.Grayscale(),\n",
    "    # transforms.CenterCrop(100),\n",
    "    # transforms.RandomCrop(100),\n",
    "    transforms.ToTensor(),\n",
    "    \n",
    "    # Mean and standard deviation were pre-computed on the training data\n",
    "    # (on the ImageNet dataset)\n",
    "    transforms.Normalize(\n",
    "        mean=mean,\n",
    "        std=std,\n",
    "        # mean=[0.485, 0.456, 0.406],\n",
    "        # std=[0.229, 0.224, 0.225],\n",
    "    ),\n",
    "])\n",
    "\n",
    "\n",
    "# # Create a Dataset instance for our training data\n",
    "# data = TraversabilityDataset(\n",
    "#     traversal_costs_file=DATASET+\"traversal_costs.csv\",\n",
    "#     images_directory=DATASET+\"images\",\n",
    "#     transform=train_transform\n",
    "# )\n",
    "\n",
    "# # Split our training dataset into a training dataset and a validation dataset\n",
    "# train_set, val_set, test_set = random_split(data, [0.8, 0.1, 0.1])\n",
    "\n",
    "\n",
    "# Create a Dataset for training\n",
    "train_set = TraversabilityDataset(\n",
    "    traversal_costs_file=DATASET+\"traversal_costs_train.csv\",\n",
    "    images_directory=DATASET+\"images_train\",\n",
    "    transform=train_transform\n",
    ")\n",
    "\n",
    "# Create a Dataset for validation\n",
    "val_set = TraversabilityDataset(\n",
    "    traversal_costs_file=DATASET+\"traversal_costs_train.csv\",\n",
    "    images_directory=DATASET+\"images_train\",\n",
    "    transform=test_transform\n",
    ")\n",
    "\n",
    "# Create a Dataset for testin\n",
    "test_set = TraversabilityDataset(\n",
    "    traversal_costs_file=DATASET+\"traversal_costs_test.csv\",\n",
    "    images_directory=DATASET+\"images_test\",\n",
    "    transform=test_transform\n",
    ")\n",
    "\n",
    "# Set the train dataset size\n",
    "# 70% of the total data is used for training, 15% for validation\n",
    "# and 15% for testing\n",
    "train_size = 70/(100-15)\n",
    "\n",
    "# Splits train data indices into train and validation data indices\n",
    "train_indices, val_indices = train_test_split(range(len(train_set)), train_size=train_size)\n",
    "\n",
    "# Extract the corresponding subsets of the train dataset\n",
    "train_set = Subset(train_set, train_indices)\n",
    "val_set = Subset(val_set, val_indices)\n",
    "\n",
    "\n",
    "BATCH_SIZE = 32\n",
    "\n",
    "# Combine a dataset and a sampler, and provide an iterable over the dataset\n",
    "# (setting shuffle argument to True calls a RandomSampler, and avoids to\n",
    "# have to create a Sampler object)\n",
    "train_loader = DataLoader(\n",
    "    train_set,\n",
    "    batch_size=BATCH_SIZE,\n",
    "    shuffle=True,\n",
    "    num_workers=12,  # Asynchronous data loading and augmentation\n",
    "    pin_memory=True,  # Increase the transferring speed of the data to the GPU\n",
    ")\n",
    "\n",
    "val_loader = DataLoader(\n",
    "    val_set,\n",
    "    batch_size=BATCH_SIZE,\n",
    "    shuffle=True,\n",
    "    num_workers=12,\n",
    "    pin_memory=True,\n",
    ")\n",
    "\n",
    "test_loader = DataLoader(\n",
    "    test_set,\n",
    "    batch_size=BATCH_SIZE,\n",
    "    shuffle=False,  # SequentialSampler\n",
    "    num_workers=12,\n",
    "    pin_memory=True,\n",
    ")"
   ]
  },
  {
   "cell_type": "code",
   "execution_count": 6,
   "metadata": {},
   "outputs": [],
   "source": [
    "# Get the number of samples per split\n",
    "NB_TRAIN = len(train_set)\n",
    "NB_VAL = len(val_set)\n",
    "NB_TEST = len(test_set)"
   ]
  },
  {
   "cell_type": "code",
   "execution_count": 7,
   "metadata": {},
   "outputs": [
    {
     "name": "stdout",
     "output_type": "stream",
     "text": [
      "70.0 % of the data for training (6239 samples)\n",
      "15.0 % of the data for validation (1337 samples)\n",
      "15.0 % of the data for testing (1338 samples)\n"
     ]
    }
   ],
   "source": [
    "# Display the splits ratio\n",
    "NB_SAMPLES = NB_TRAIN + NB_VAL + NB_TEST\n",
    "\n",
    "print(f\"{np.round(NB_TRAIN/NB_SAMPLES*100)} % of the data for training ({NB_TRAIN} samples)\")\n",
    "print(f\"{np.round(NB_VAL/NB_SAMPLES*100)} % of the data for validation ({NB_VAL} samples)\")\n",
    "print(f\"{np.round(NB_TEST/NB_SAMPLES*100)} % of the data for testing ({NB_TEST} samples)\")"
   ]
  },
  {
   "attachments": {},
   "cell_type": "markdown",
   "metadata": {},
   "source": [
    "### GPU?"
   ]
  },
  {
   "cell_type": "code",
   "execution_count": 8,
   "metadata": {},
   "outputs": [
    {
     "name": "stdout",
     "output_type": "stream",
     "text": [
      "Device: cuda\n",
      "\n"
     ]
    }
   ],
   "source": [
    "# Use a GPU if available\n",
    "# device = \"cpu\"\n",
    "device = \"cuda\" if torch.cuda.is_available() else \"cpu\"\n",
    "print(f\"Device: {device}\\n\")"
   ]
  },
  {
   "attachments": {},
   "cell_type": "markdown",
   "metadata": {},
   "source": [
    "### Model design and initialization"
   ]
  },
  {
   "cell_type": "code",
   "execution_count": 9,
   "metadata": {},
   "outputs": [
    {
     "name": "stdout",
     "output_type": "stream",
     "text": [
      "MobileNetV3(\n",
      "  (features): Sequential(\n",
      "    (0): ConvNormActivation(\n",
      "      (0): Conv2d(3, 16, kernel_size=(3, 3), stride=(2, 2), padding=(1, 1), bias=False)\n",
      "      (1): BatchNorm2d(16, eps=0.001, momentum=0.01, affine=True, track_running_stats=True)\n",
      "      (2): Hardswish()\n",
      "    )\n",
      "    (1): InvertedResidual(\n",
      "      (block): Sequential(\n",
      "        (0): ConvNormActivation(\n",
      "          (0): Conv2d(16, 16, kernel_size=(3, 3), stride=(2, 2), padding=(1, 1), groups=16, bias=False)\n",
      "          (1): BatchNorm2d(16, eps=0.001, momentum=0.01, affine=True, track_running_stats=True)\n",
      "          (2): ReLU(inplace=True)\n",
      "        )\n",
      "        (1): SqueezeExcitation(\n",
      "          (avgpool): AdaptiveAvgPool2d(output_size=1)\n",
      "          (fc1): Conv2d(16, 8, kernel_size=(1, 1), stride=(1, 1))\n",
      "          (fc2): Conv2d(8, 16, kernel_size=(1, 1), stride=(1, 1))\n",
      "          (activation): ReLU()\n",
      "          (scale_activation): Hardsigmoid()\n",
      "        )\n",
      "        (2): ConvNormActivation(\n",
      "          (0): Conv2d(16, 16, kernel_size=(1, 1), stride=(1, 1), bias=False)\n",
      "          (1): BatchNorm2d(16, eps=0.001, momentum=0.01, affine=True, track_running_stats=True)\n",
      "        )\n",
      "      )\n",
      "    )\n",
      "    (2): InvertedResidual(\n",
      "      (block): Sequential(\n",
      "        (0): ConvNormActivation(\n",
      "          (0): Conv2d(16, 72, kernel_size=(1, 1), stride=(1, 1), bias=False)\n",
      "          (1): BatchNorm2d(72, eps=0.001, momentum=0.01, affine=True, track_running_stats=True)\n",
      "          (2): ReLU(inplace=True)\n",
      "        )\n",
      "        (1): ConvNormActivation(\n",
      "          (0): Conv2d(72, 72, kernel_size=(3, 3), stride=(2, 2), padding=(1, 1), groups=72, bias=False)\n",
      "          (1): BatchNorm2d(72, eps=0.001, momentum=0.01, affine=True, track_running_stats=True)\n",
      "          (2): ReLU(inplace=True)\n",
      "        )\n",
      "        (2): ConvNormActivation(\n",
      "          (0): Conv2d(72, 24, kernel_size=(1, 1), stride=(1, 1), bias=False)\n",
      "          (1): BatchNorm2d(24, eps=0.001, momentum=0.01, affine=True, track_running_stats=True)\n",
      "        )\n",
      "      )\n",
      "    )\n",
      "    (3): InvertedResidual(\n",
      "      (block): Sequential(\n",
      "        (0): ConvNormActivation(\n",
      "          (0): Conv2d(24, 88, kernel_size=(1, 1), stride=(1, 1), bias=False)\n",
      "          (1): BatchNorm2d(88, eps=0.001, momentum=0.01, affine=True, track_running_stats=True)\n",
      "          (2): ReLU(inplace=True)\n",
      "        )\n",
      "        (1): ConvNormActivation(\n",
      "          (0): Conv2d(88, 88, kernel_size=(3, 3), stride=(1, 1), padding=(1, 1), groups=88, bias=False)\n",
      "          (1): BatchNorm2d(88, eps=0.001, momentum=0.01, affine=True, track_running_stats=True)\n",
      "          (2): ReLU(inplace=True)\n",
      "        )\n",
      "        (2): ConvNormActivation(\n",
      "          (0): Conv2d(88, 24, kernel_size=(1, 1), stride=(1, 1), bias=False)\n",
      "          (1): BatchNorm2d(24, eps=0.001, momentum=0.01, affine=True, track_running_stats=True)\n",
      "        )\n",
      "      )\n",
      "    )\n",
      "    (4): InvertedResidual(\n",
      "      (block): Sequential(\n",
      "        (0): ConvNormActivation(\n",
      "          (0): Conv2d(24, 96, kernel_size=(1, 1), stride=(1, 1), bias=False)\n",
      "          (1): BatchNorm2d(96, eps=0.001, momentum=0.01, affine=True, track_running_stats=True)\n",
      "          (2): Hardswish()\n",
      "        )\n",
      "        (1): ConvNormActivation(\n",
      "          (0): Conv2d(96, 96, kernel_size=(5, 5), stride=(2, 2), padding=(2, 2), groups=96, bias=False)\n",
      "          (1): BatchNorm2d(96, eps=0.001, momentum=0.01, affine=True, track_running_stats=True)\n",
      "          (2): Hardswish()\n",
      "        )\n",
      "        (2): SqueezeExcitation(\n",
      "          (avgpool): AdaptiveAvgPool2d(output_size=1)\n",
      "          (fc1): Conv2d(96, 24, kernel_size=(1, 1), stride=(1, 1))\n",
      "          (fc2): Conv2d(24, 96, kernel_size=(1, 1), stride=(1, 1))\n",
      "          (activation): ReLU()\n",
      "          (scale_activation): Hardsigmoid()\n",
      "        )\n",
      "        (3): ConvNormActivation(\n",
      "          (0): Conv2d(96, 40, kernel_size=(1, 1), stride=(1, 1), bias=False)\n",
      "          (1): BatchNorm2d(40, eps=0.001, momentum=0.01, affine=True, track_running_stats=True)\n",
      "        )\n",
      "      )\n",
      "    )\n",
      "    (5): InvertedResidual(\n",
      "      (block): Sequential(\n",
      "        (0): ConvNormActivation(\n",
      "          (0): Conv2d(40, 240, kernel_size=(1, 1), stride=(1, 1), bias=False)\n",
      "          (1): BatchNorm2d(240, eps=0.001, momentum=0.01, affine=True, track_running_stats=True)\n",
      "          (2): Hardswish()\n",
      "        )\n",
      "        (1): ConvNormActivation(\n",
      "          (0): Conv2d(240, 240, kernel_size=(5, 5), stride=(1, 1), padding=(2, 2), groups=240, bias=False)\n",
      "          (1): BatchNorm2d(240, eps=0.001, momentum=0.01, affine=True, track_running_stats=True)\n",
      "          (2): Hardswish()\n",
      "        )\n",
      "        (2): SqueezeExcitation(\n",
      "          (avgpool): AdaptiveAvgPool2d(output_size=1)\n",
      "          (fc1): Conv2d(240, 64, kernel_size=(1, 1), stride=(1, 1))\n",
      "          (fc2): Conv2d(64, 240, kernel_size=(1, 1), stride=(1, 1))\n",
      "          (activation): ReLU()\n",
      "          (scale_activation): Hardsigmoid()\n",
      "        )\n",
      "        (3): ConvNormActivation(\n",
      "          (0): Conv2d(240, 40, kernel_size=(1, 1), stride=(1, 1), bias=False)\n",
      "          (1): BatchNorm2d(40, eps=0.001, momentum=0.01, affine=True, track_running_stats=True)\n",
      "        )\n",
      "      )\n",
      "    )\n",
      "    (6): InvertedResidual(\n",
      "      (block): Sequential(\n",
      "        (0): ConvNormActivation(\n",
      "          (0): Conv2d(40, 240, kernel_size=(1, 1), stride=(1, 1), bias=False)\n",
      "          (1): BatchNorm2d(240, eps=0.001, momentum=0.01, affine=True, track_running_stats=True)\n",
      "          (2): Hardswish()\n",
      "        )\n",
      "        (1): ConvNormActivation(\n",
      "          (0): Conv2d(240, 240, kernel_size=(5, 5), stride=(1, 1), padding=(2, 2), groups=240, bias=False)\n",
      "          (1): BatchNorm2d(240, eps=0.001, momentum=0.01, affine=True, track_running_stats=True)\n",
      "          (2): Hardswish()\n",
      "        )\n",
      "        (2): SqueezeExcitation(\n",
      "          (avgpool): AdaptiveAvgPool2d(output_size=1)\n",
      "          (fc1): Conv2d(240, 64, kernel_size=(1, 1), stride=(1, 1))\n",
      "          (fc2): Conv2d(64, 240, kernel_size=(1, 1), stride=(1, 1))\n",
      "          (activation): ReLU()\n",
      "          (scale_activation): Hardsigmoid()\n",
      "        )\n",
      "        (3): ConvNormActivation(\n",
      "          (0): Conv2d(240, 40, kernel_size=(1, 1), stride=(1, 1), bias=False)\n",
      "          (1): BatchNorm2d(40, eps=0.001, momentum=0.01, affine=True, track_running_stats=True)\n",
      "        )\n",
      "      )\n",
      "    )\n",
      "    (7): InvertedResidual(\n",
      "      (block): Sequential(\n",
      "        (0): ConvNormActivation(\n",
      "          (0): Conv2d(40, 120, kernel_size=(1, 1), stride=(1, 1), bias=False)\n",
      "          (1): BatchNorm2d(120, eps=0.001, momentum=0.01, affine=True, track_running_stats=True)\n",
      "          (2): Hardswish()\n",
      "        )\n",
      "        (1): ConvNormActivation(\n",
      "          (0): Conv2d(120, 120, kernel_size=(5, 5), stride=(1, 1), padding=(2, 2), groups=120, bias=False)\n",
      "          (1): BatchNorm2d(120, eps=0.001, momentum=0.01, affine=True, track_running_stats=True)\n",
      "          (2): Hardswish()\n",
      "        )\n",
      "        (2): SqueezeExcitation(\n",
      "          (avgpool): AdaptiveAvgPool2d(output_size=1)\n",
      "          (fc1): Conv2d(120, 32, kernel_size=(1, 1), stride=(1, 1))\n",
      "          (fc2): Conv2d(32, 120, kernel_size=(1, 1), stride=(1, 1))\n",
      "          (activation): ReLU()\n",
      "          (scale_activation): Hardsigmoid()\n",
      "        )\n",
      "        (3): ConvNormActivation(\n",
      "          (0): Conv2d(120, 48, kernel_size=(1, 1), stride=(1, 1), bias=False)\n",
      "          (1): BatchNorm2d(48, eps=0.001, momentum=0.01, affine=True, track_running_stats=True)\n",
      "        )\n",
      "      )\n",
      "    )\n",
      "    (8): InvertedResidual(\n",
      "      (block): Sequential(\n",
      "        (0): ConvNormActivation(\n",
      "          (0): Conv2d(48, 144, kernel_size=(1, 1), stride=(1, 1), bias=False)\n",
      "          (1): BatchNorm2d(144, eps=0.001, momentum=0.01, affine=True, track_running_stats=True)\n",
      "          (2): Hardswish()\n",
      "        )\n",
      "        (1): ConvNormActivation(\n",
      "          (0): Conv2d(144, 144, kernel_size=(5, 5), stride=(1, 1), padding=(2, 2), groups=144, bias=False)\n",
      "          (1): BatchNorm2d(144, eps=0.001, momentum=0.01, affine=True, track_running_stats=True)\n",
      "          (2): Hardswish()\n",
      "        )\n",
      "        (2): SqueezeExcitation(\n",
      "          (avgpool): AdaptiveAvgPool2d(output_size=1)\n",
      "          (fc1): Conv2d(144, 40, kernel_size=(1, 1), stride=(1, 1))\n",
      "          (fc2): Conv2d(40, 144, kernel_size=(1, 1), stride=(1, 1))\n",
      "          (activation): ReLU()\n",
      "          (scale_activation): Hardsigmoid()\n",
      "        )\n",
      "        (3): ConvNormActivation(\n",
      "          (0): Conv2d(144, 48, kernel_size=(1, 1), stride=(1, 1), bias=False)\n",
      "          (1): BatchNorm2d(48, eps=0.001, momentum=0.01, affine=True, track_running_stats=True)\n",
      "        )\n",
      "      )\n",
      "    )\n",
      "    (9): InvertedResidual(\n",
      "      (block): Sequential(\n",
      "        (0): ConvNormActivation(\n",
      "          (0): Conv2d(48, 288, kernel_size=(1, 1), stride=(1, 1), bias=False)\n",
      "          (1): BatchNorm2d(288, eps=0.001, momentum=0.01, affine=True, track_running_stats=True)\n",
      "          (2): Hardswish()\n",
      "        )\n",
      "        (1): ConvNormActivation(\n",
      "          (0): Conv2d(288, 288, kernel_size=(5, 5), stride=(2, 2), padding=(2, 2), groups=288, bias=False)\n",
      "          (1): BatchNorm2d(288, eps=0.001, momentum=0.01, affine=True, track_running_stats=True)\n",
      "          (2): Hardswish()\n",
      "        )\n",
      "        (2): SqueezeExcitation(\n",
      "          (avgpool): AdaptiveAvgPool2d(output_size=1)\n",
      "          (fc1): Conv2d(288, 72, kernel_size=(1, 1), stride=(1, 1))\n",
      "          (fc2): Conv2d(72, 288, kernel_size=(1, 1), stride=(1, 1))\n",
      "          (activation): ReLU()\n",
      "          (scale_activation): Hardsigmoid()\n",
      "        )\n",
      "        (3): ConvNormActivation(\n",
      "          (0): Conv2d(288, 96, kernel_size=(1, 1), stride=(1, 1), bias=False)\n",
      "          (1): BatchNorm2d(96, eps=0.001, momentum=0.01, affine=True, track_running_stats=True)\n",
      "        )\n",
      "      )\n",
      "    )\n",
      "    (10): InvertedResidual(\n",
      "      (block): Sequential(\n",
      "        (0): ConvNormActivation(\n",
      "          (0): Conv2d(96, 576, kernel_size=(1, 1), stride=(1, 1), bias=False)\n",
      "          (1): BatchNorm2d(576, eps=0.001, momentum=0.01, affine=True, track_running_stats=True)\n",
      "          (2): Hardswish()\n",
      "        )\n",
      "        (1): ConvNormActivation(\n",
      "          (0): Conv2d(576, 576, kernel_size=(5, 5), stride=(1, 1), padding=(2, 2), groups=576, bias=False)\n",
      "          (1): BatchNorm2d(576, eps=0.001, momentum=0.01, affine=True, track_running_stats=True)\n",
      "          (2): Hardswish()\n",
      "        )\n",
      "        (2): SqueezeExcitation(\n",
      "          (avgpool): AdaptiveAvgPool2d(output_size=1)\n",
      "          (fc1): Conv2d(576, 144, kernel_size=(1, 1), stride=(1, 1))\n",
      "          (fc2): Conv2d(144, 576, kernel_size=(1, 1), stride=(1, 1))\n",
      "          (activation): ReLU()\n",
      "          (scale_activation): Hardsigmoid()\n",
      "        )\n",
      "        (3): ConvNormActivation(\n",
      "          (0): Conv2d(576, 96, kernel_size=(1, 1), stride=(1, 1), bias=False)\n",
      "          (1): BatchNorm2d(96, eps=0.001, momentum=0.01, affine=True, track_running_stats=True)\n",
      "        )\n",
      "      )\n",
      "    )\n",
      "    (11): InvertedResidual(\n",
      "      (block): Sequential(\n",
      "        (0): ConvNormActivation(\n",
      "          (0): Conv2d(96, 576, kernel_size=(1, 1), stride=(1, 1), bias=False)\n",
      "          (1): BatchNorm2d(576, eps=0.001, momentum=0.01, affine=True, track_running_stats=True)\n",
      "          (2): Hardswish()\n",
      "        )\n",
      "        (1): ConvNormActivation(\n",
      "          (0): Conv2d(576, 576, kernel_size=(5, 5), stride=(1, 1), padding=(2, 2), groups=576, bias=False)\n",
      "          (1): BatchNorm2d(576, eps=0.001, momentum=0.01, affine=True, track_running_stats=True)\n",
      "          (2): Hardswish()\n",
      "        )\n",
      "        (2): SqueezeExcitation(\n",
      "          (avgpool): AdaptiveAvgPool2d(output_size=1)\n",
      "          (fc1): Conv2d(576, 144, kernel_size=(1, 1), stride=(1, 1))\n",
      "          (fc2): Conv2d(144, 576, kernel_size=(1, 1), stride=(1, 1))\n",
      "          (activation): ReLU()\n",
      "          (scale_activation): Hardsigmoid()\n",
      "        )\n",
      "        (3): ConvNormActivation(\n",
      "          (0): Conv2d(576, 96, kernel_size=(1, 1), stride=(1, 1), bias=False)\n",
      "          (1): BatchNorm2d(96, eps=0.001, momentum=0.01, affine=True, track_running_stats=True)\n",
      "        )\n",
      "      )\n",
      "    )\n",
      "    (12): ConvNormActivation(\n",
      "      (0): Conv2d(96, 576, kernel_size=(1, 1), stride=(1, 1), bias=False)\n",
      "      (1): BatchNorm2d(576, eps=0.001, momentum=0.01, affine=True, track_running_stats=True)\n",
      "      (2): Hardswish()\n",
      "    )\n",
      "  )\n",
      "  (avgpool): AdaptiveAvgPool2d(output_size=1)\n",
      "  (classifier): Sequential(\n",
      "    (0): Linear(in_features=576, out_features=1024, bias=True)\n",
      "    (1): Hardswish()\n",
      "    (2): Dropout(p=0.2, inplace=True)\n",
      "    (3): Linear(in_features=1024, out_features=1, bias=True)\n",
      "  )\n",
      ")\n"
     ]
    }
   ],
   "source": [
    "# Open TensorBoard\n",
    "tensorboard = SummaryWriter()\n",
    "\n",
    "# Load the pre-trained MobileNet model\n",
    "model = models.mobilenet_v2(pretrained=True).to(device=device)\n",
    "\n",
    "# Replace the last layer by a fully-connected one with 1 output\n",
    "model.classifier[1] = nn.Linear(model.last_channel, 1).to(device=device)\n",
    "\n",
    "# Initialize the last layer using Xavier initialization\n",
    "nn.init.xavier_uniform_(model.classifier[1].weight)\n",
    "\n",
    "# Display the architecture in TensorBoard\n",
    "images, traversal_costs, traversability_labels = next(iter(train_loader))\n",
    "images = images.to(device)\n",
    "tensorboard.add_graph(model, images)\n",
    "\n",
    "# Print the modified model\n",
    "print(model)"
   ]
  },
  {
   "attachments": {},
   "cell_type": "markdown",
   "metadata": {},
   "source": [
    "### Training and validation loops"
   ]
  },
  {
   "cell_type": "code",
   "execution_count": 10,
   "metadata": {},
   "outputs": [
    {
     "name": "stderr",
     "output_type": "stream",
     "text": [
      "Epoch 0 [train]: 100%|██████████| 195/195 [00:04<00:00, 45.79batch/s, batch_loss=0.106] \n",
      "Epoch 0 [val]: 100%|██████████| 42/42 [00:00<00:00, 57.49batch/s, batch_loss=0.0507]\n"
     ]
    },
    {
     "name": "stdout",
     "output_type": "stream",
     "text": [
      "Train loss:  0.36281601312832956\n",
      "Validation loss:  0.1442838673080717\n"
     ]
    },
    {
     "name": "stderr",
     "output_type": "stream",
     "text": [
      "Epoch 1 [train]: 100%|██████████| 195/195 [00:04<00:00, 46.33batch/s, batch_loss=0.0773]\n",
      "Epoch 1 [val]: 100%|██████████| 42/42 [00:00<00:00, 58.68batch/s, batch_loss=0.149] \n"
     ]
    },
    {
     "name": "stdout",
     "output_type": "stream",
     "text": [
      "Train loss:  0.11164980163941017\n",
      "Validation loss:  0.1061162543261335\n"
     ]
    },
    {
     "name": "stderr",
     "output_type": "stream",
     "text": [
      "Epoch 2 [train]: 100%|██████████| 195/195 [00:04<00:00, 46.14batch/s, batch_loss=0.0582]\n",
      "Epoch 2 [val]: 100%|██████████| 42/42 [00:00<00:00, 57.80batch/s, batch_loss=0.0595]\n"
     ]
    },
    {
     "name": "stdout",
     "output_type": "stream",
     "text": [
      "Train loss:  0.08871714281730163\n",
      "Validation loss:  0.0873978224893411\n"
     ]
    },
    {
     "name": "stderr",
     "output_type": "stream",
     "text": [
      "Epoch 3 [train]: 100%|██████████| 195/195 [00:04<00:00, 46.88batch/s, batch_loss=0.0489]\n",
      "Epoch 3 [val]: 100%|██████████| 42/42 [00:00<00:00, 57.16batch/s, batch_loss=0.0743]\n"
     ]
    },
    {
     "name": "stdout",
     "output_type": "stream",
     "text": [
      "Train loss:  0.07518534582012738\n",
      "Validation loss:  0.08451639479469686\n"
     ]
    },
    {
     "name": "stderr",
     "output_type": "stream",
     "text": [
      "Epoch 4 [train]: 100%|██████████| 195/195 [00:04<00:00, 46.64batch/s, batch_loss=0.0499]\n",
      "Epoch 4 [val]: 100%|██████████| 42/42 [00:00<00:00, 58.96batch/s, batch_loss=0.0828]\n"
     ]
    },
    {
     "name": "stdout",
     "output_type": "stream",
     "text": [
      "Train loss:  0.07015788298195753\n",
      "Validation loss:  0.07665552402890864\n"
     ]
    },
    {
     "name": "stderr",
     "output_type": "stream",
     "text": [
      "Epoch 5 [train]: 100%|██████████| 195/195 [00:04<00:00, 46.70batch/s, batch_loss=0.0838]\n",
      "Epoch 5 [val]: 100%|██████████| 42/42 [00:00<00:00, 59.45batch/s, batch_loss=0.0567]\n"
     ]
    },
    {
     "name": "stdout",
     "output_type": "stream",
     "text": [
      "Train loss:  0.06576384671796591\n",
      "Validation loss:  0.0821743875387169\n"
     ]
    },
    {
     "name": "stderr",
     "output_type": "stream",
     "text": [
      "Epoch 6 [train]: 100%|██████████| 195/195 [00:04<00:00, 46.23batch/s, batch_loss=0.0369]\n",
      "Epoch 6 [val]: 100%|██████████| 42/42 [00:00<00:00, 58.10batch/s, batch_loss=0.106] \n"
     ]
    },
    {
     "name": "stdout",
     "output_type": "stream",
     "text": [
      "Train loss:  0.06579391413774245\n",
      "Validation loss:  0.0690343396826869\n"
     ]
    },
    {
     "name": "stderr",
     "output_type": "stream",
     "text": [
      "Epoch 7 [train]: 100%|██████████| 195/195 [00:04<00:00, 45.93batch/s, batch_loss=0.0668]\n",
      "Epoch 7 [val]: 100%|██████████| 42/42 [00:00<00:00, 58.09batch/s, batch_loss=0.0517]\n"
     ]
    },
    {
     "name": "stdout",
     "output_type": "stream",
     "text": [
      "Train loss:  0.060101541781272645\n",
      "Validation loss:  0.059132762696771396\n"
     ]
    },
    {
     "name": "stderr",
     "output_type": "stream",
     "text": [
      "Epoch 8 [train]: 100%|██████████| 195/195 [00:04<00:00, 46.15batch/s, batch_loss=0.0497]\n",
      "Epoch 8 [val]: 100%|██████████| 42/42 [00:00<00:00, 58.47batch/s, batch_loss=0.0709]\n"
     ]
    },
    {
     "name": "stdout",
     "output_type": "stream",
     "text": [
      "Train loss:  0.059124393913990415\n",
      "Validation loss:  0.061727012551966165\n"
     ]
    },
    {
     "name": "stderr",
     "output_type": "stream",
     "text": [
      "Epoch 9 [train]: 100%|██████████| 195/195 [00:04<00:00, 46.68batch/s, batch_loss=0.0909]\n",
      "Epoch 9 [val]: 100%|██████████| 42/42 [00:00<00:00, 58.77batch/s, batch_loss=0.0403]\n"
     ]
    },
    {
     "name": "stdout",
     "output_type": "stream",
     "text": [
      "Train loss:  0.05914178229868412\n",
      "Validation loss:  0.06325899729771274\n"
     ]
    },
    {
     "name": "stderr",
     "output_type": "stream",
     "text": [
      "Epoch 10 [train]: 100%|██████████| 195/195 [00:04<00:00, 46.61batch/s, batch_loss=0.0838]\n",
      "Epoch 10 [val]: 100%|██████████| 42/42 [00:00<00:00, 59.55batch/s, batch_loss=0.0521]\n"
     ]
    },
    {
     "name": "stdout",
     "output_type": "stream",
     "text": [
      "Train loss:  0.057318581965489265\n",
      "Validation loss:  0.06351196969903651\n"
     ]
    },
    {
     "name": "stderr",
     "output_type": "stream",
     "text": [
      "Epoch 11 [train]: 100%|██████████| 195/195 [00:04<00:00, 46.22batch/s, batch_loss=0.0873]\n",
      "Epoch 11 [val]: 100%|██████████| 42/42 [00:00<00:00, 58.94batch/s, batch_loss=0.0595]\n"
     ]
    },
    {
     "name": "stdout",
     "output_type": "stream",
     "text": [
      "Train loss:  0.056959050740951145\n",
      "Validation loss:  0.061175567142310594\n"
     ]
    },
    {
     "name": "stderr",
     "output_type": "stream",
     "text": [
      "Epoch 12 [train]: 100%|██████████| 195/195 [00:04<00:00, 46.22batch/s, batch_loss=0.0445]\n",
      "Epoch 12 [val]: 100%|██████████| 42/42 [00:00<00:00, 59.21batch/s, batch_loss=0.0424]\n"
     ]
    },
    {
     "name": "stdout",
     "output_type": "stream",
     "text": [
      "Train loss:  0.055620211477463065\n",
      "Validation loss:  0.062049913175758864\n"
     ]
    },
    {
     "name": "stderr",
     "output_type": "stream",
     "text": [
      "Epoch 13 [train]: 100%|██████████| 195/195 [00:04<00:00, 46.60batch/s, batch_loss=0.045] \n",
      "Epoch 13 [val]: 100%|██████████| 42/42 [00:00<00:00, 58.47batch/s, batch_loss=0.0655]\n"
     ]
    },
    {
     "name": "stdout",
     "output_type": "stream",
     "text": [
      "Train loss:  0.05421142516036828\n",
      "Validation loss:  0.06154721718104113\n"
     ]
    },
    {
     "name": "stderr",
     "output_type": "stream",
     "text": [
      "Epoch 14 [train]: 100%|██████████| 195/195 [00:04<00:00, 46.45batch/s, batch_loss=0.0385]\n",
      "Epoch 14 [val]: 100%|██████████| 42/42 [00:00<00:00, 57.26batch/s, batch_loss=0.0767]\n"
     ]
    },
    {
     "name": "stdout",
     "output_type": "stream",
     "text": [
      "Train loss:  0.054212986859373556\n",
      "Validation loss:  0.0569526052900723\n"
     ]
    },
    {
     "name": "stderr",
     "output_type": "stream",
     "text": [
      "Epoch 15 [train]: 100%|██████████| 195/195 [00:04<00:00, 46.63batch/s, batch_loss=0.0406]\n",
      "Epoch 15 [val]: 100%|██████████| 42/42 [00:00<00:00, 57.95batch/s, batch_loss=0.0379]\n"
     ]
    },
    {
     "name": "stdout",
     "output_type": "stream",
     "text": [
      "Train loss:  0.05440179174527144\n",
      "Validation loss:  0.05677450146703493\n"
     ]
    },
    {
     "name": "stderr",
     "output_type": "stream",
     "text": [
      "Epoch 16 [train]: 100%|██████████| 195/195 [00:04<00:00, 47.13batch/s, batch_loss=0.039] \n",
      "Epoch 16 [val]: 100%|██████████| 42/42 [00:00<00:00, 57.42batch/s, batch_loss=0.0532]\n"
     ]
    },
    {
     "name": "stdout",
     "output_type": "stream",
     "text": [
      "Train loss:  0.05291803803008336\n",
      "Validation loss:  0.053251618962912334\n"
     ]
    },
    {
     "name": "stderr",
     "output_type": "stream",
     "text": [
      "Epoch 17 [train]: 100%|██████████| 195/195 [00:04<00:00, 46.30batch/s, batch_loss=0.0697]\n",
      "Epoch 17 [val]: 100%|██████████| 42/42 [00:00<00:00, 57.96batch/s, batch_loss=0.0387]\n"
     ]
    },
    {
     "name": "stdout",
     "output_type": "stream",
     "text": [
      "Train loss:  0.05435436765352885\n",
      "Validation loss:  0.05672091152518988\n"
     ]
    },
    {
     "name": "stderr",
     "output_type": "stream",
     "text": [
      "Epoch 18 [train]: 100%|██████████| 195/195 [00:04<00:00, 46.80batch/s, batch_loss=0.0341]\n",
      "Epoch 18 [val]: 100%|██████████| 42/42 [00:00<00:00, 58.69batch/s, batch_loss=0.0799]\n"
     ]
    },
    {
     "name": "stdout",
     "output_type": "stream",
     "text": [
      "Train loss:  0.05180748235911895\n",
      "Validation loss:  0.05093321683151381\n"
     ]
    },
    {
     "name": "stderr",
     "output_type": "stream",
     "text": [
      "Epoch 19 [train]: 100%|██████████| 195/195 [00:04<00:00, 45.87batch/s, batch_loss=0.0386]\n",
      "Epoch 19 [val]: 100%|██████████| 42/42 [00:00<00:00, 58.08batch/s, batch_loss=0.1]   \n"
     ]
    },
    {
     "name": "stdout",
     "output_type": "stream",
     "text": [
      "Train loss:  0.05243951184436297\n",
      "Validation loss:  0.050275636393399464\n"
     ]
    },
    {
     "name": "stderr",
     "output_type": "stream",
     "text": [
      "Epoch 20 [train]: 100%|██████████| 195/195 [00:04<00:00, 45.49batch/s, batch_loss=0.0351]\n",
      "Epoch 20 [val]: 100%|██████████| 42/42 [00:00<00:00, 56.41batch/s, batch_loss=0.0389]\n"
     ]
    },
    {
     "name": "stdout",
     "output_type": "stream",
     "text": [
      "Train loss:  0.05201527255181319\n",
      "Validation loss:  0.0562112404565726\n"
     ]
    },
    {
     "name": "stderr",
     "output_type": "stream",
     "text": [
      "Epoch 21 [train]: 100%|██████████| 195/195 [00:04<00:00, 47.60batch/s, batch_loss=0.0554]\n",
      "Epoch 21 [val]: 100%|██████████| 42/42 [00:00<00:00, 58.59batch/s, batch_loss=0.0358]\n"
     ]
    },
    {
     "name": "stdout",
     "output_type": "stream",
     "text": [
      "Train loss:  0.050541476828929705\n",
      "Validation loss:  0.05094274603539989\n"
     ]
    },
    {
     "name": "stderr",
     "output_type": "stream",
     "text": [
      "Epoch 22 [train]: 100%|██████████| 195/195 [00:04<00:00, 46.81batch/s, batch_loss=0.0461]\n",
      "Epoch 22 [val]: 100%|██████████| 42/42 [00:00<00:00, 57.97batch/s, batch_loss=0.0504]\n"
     ]
    },
    {
     "name": "stdout",
     "output_type": "stream",
     "text": [
      "Train loss:  0.049946146859572486\n",
      "Validation loss:  0.05348977952131203\n"
     ]
    },
    {
     "name": "stderr",
     "output_type": "stream",
     "text": [
      "Epoch 23 [train]: 100%|██████████| 195/195 [00:04<00:00, 46.09batch/s, batch_loss=0.0326]\n",
      "Epoch 23 [val]: 100%|██████████| 42/42 [00:00<00:00, 56.43batch/s, batch_loss=0.037] \n"
     ]
    },
    {
     "name": "stdout",
     "output_type": "stream",
     "text": [
      "Train loss:  0.049674129696228565\n",
      "Validation loss:  0.05303961406683638\n"
     ]
    },
    {
     "name": "stderr",
     "output_type": "stream",
     "text": [
      "Epoch 24 [train]: 100%|██████████| 195/195 [00:04<00:00, 46.19batch/s, batch_loss=0.0406]\n",
      "Epoch 24 [val]: 100%|██████████| 42/42 [00:00<00:00, 57.04batch/s, batch_loss=0.0862]\n"
     ]
    },
    {
     "name": "stdout",
     "output_type": "stream",
     "text": [
      "Train loss:  0.051326952998836835\n",
      "Validation loss:  0.05725682455868948\n"
     ]
    },
    {
     "name": "stderr",
     "output_type": "stream",
     "text": [
      "Epoch 25 [train]: 100%|██████████| 195/195 [00:04<00:00, 45.28batch/s, batch_loss=0.0656]\n",
      "Epoch 25 [val]: 100%|██████████| 42/42 [00:00<00:00, 59.31batch/s, batch_loss=0.051] \n"
     ]
    },
    {
     "name": "stdout",
     "output_type": "stream",
     "text": [
      "Train loss:  0.04966649106488778\n",
      "Validation loss:  0.050061402132823354\n"
     ]
    },
    {
     "name": "stderr",
     "output_type": "stream",
     "text": [
      "Epoch 26 [train]: 100%|██████████| 195/195 [00:04<00:00, 46.40batch/s, batch_loss=0.065] \n",
      "Epoch 26 [val]: 100%|██████████| 42/42 [00:00<00:00, 57.94batch/s, batch_loss=0.0337]\n"
     ]
    },
    {
     "name": "stdout",
     "output_type": "stream",
     "text": [
      "Train loss:  0.05033729483301823\n",
      "Validation loss:  0.04884885721618221\n"
     ]
    },
    {
     "name": "stderr",
     "output_type": "stream",
     "text": [
      "Epoch 27 [train]: 100%|██████████| 195/195 [00:04<00:00, 47.36batch/s, batch_loss=0.0236]\n",
      "Epoch 27 [val]: 100%|██████████| 42/42 [00:00<00:00, 59.41batch/s, batch_loss=0.0711]\n"
     ]
    },
    {
     "name": "stdout",
     "output_type": "stream",
     "text": [
      "Train loss:  0.047881896220720734\n",
      "Validation loss:  0.05073238217404911\n"
     ]
    },
    {
     "name": "stderr",
     "output_type": "stream",
     "text": [
      "Epoch 28 [train]: 100%|██████████| 195/195 [00:04<00:00, 46.81batch/s, batch_loss=0.0335]\n",
      "Epoch 28 [val]: 100%|██████████| 42/42 [00:00<00:00, 58.85batch/s, batch_loss=0.0287]\n"
     ]
    },
    {
     "name": "stdout",
     "output_type": "stream",
     "text": [
      "Train loss:  0.0491150197883447\n",
      "Validation loss:  0.050776259352763496\n"
     ]
    },
    {
     "name": "stderr",
     "output_type": "stream",
     "text": [
      "Epoch 29 [train]: 100%|██████████| 195/195 [00:04<00:00, 46.06batch/s, batch_loss=0.0698]\n",
      "Epoch 29 [val]: 100%|██████████| 42/42 [00:00<00:00, 58.71batch/s, batch_loss=0.0541]\n"
     ]
    },
    {
     "name": "stdout",
     "output_type": "stream",
     "text": [
      "Train loss:  0.04882433259716401\n",
      "Validation loss:  0.05297428653353736\n"
     ]
    },
    {
     "name": "stderr",
     "output_type": "stream",
     "text": [
      "Epoch 30 [train]: 100%|██████████| 195/195 [00:04<00:00, 46.22batch/s, batch_loss=0.0462]\n",
      "Epoch 30 [val]: 100%|██████████| 42/42 [00:00<00:00, 59.07batch/s, batch_loss=0.0425]\n"
     ]
    },
    {
     "name": "stdout",
     "output_type": "stream",
     "text": [
      "Train loss:  0.04835145228948349\n",
      "Validation loss:  0.05205750762529317\n"
     ]
    },
    {
     "name": "stderr",
     "output_type": "stream",
     "text": [
      "Epoch 31 [train]: 100%|██████████| 195/195 [00:04<00:00, 46.77batch/s, batch_loss=0.0698]\n",
      "Epoch 31 [val]: 100%|██████████| 42/42 [00:00<00:00, 58.58batch/s, batch_loss=0.0512]\n"
     ]
    },
    {
     "name": "stdout",
     "output_type": "stream",
     "text": [
      "Train loss:  0.04867420631150405\n",
      "Validation loss:  0.05237605928310326\n"
     ]
    },
    {
     "name": "stderr",
     "output_type": "stream",
     "text": [
      "Epoch 32 [train]: 100%|██████████| 195/195 [00:04<00:00, 46.19batch/s, batch_loss=0.05]  \n",
      "Epoch 32 [val]: 100%|██████████| 42/42 [00:00<00:00, 58.44batch/s, batch_loss=0.0311]\n"
     ]
    },
    {
     "name": "stdout",
     "output_type": "stream",
     "text": [
      "Train loss:  0.04804013963693227\n",
      "Validation loss:  0.04928052984178066\n"
     ]
    },
    {
     "name": "stderr",
     "output_type": "stream",
     "text": [
      "Epoch 33 [train]: 100%|██████████| 195/195 [00:04<00:00, 46.25batch/s, batch_loss=0.0223]\n",
      "Epoch 33 [val]: 100%|██████████| 42/42 [00:00<00:00, 58.61batch/s, batch_loss=0.0355]\n"
     ]
    },
    {
     "name": "stdout",
     "output_type": "stream",
     "text": [
      "Train loss:  0.049218901179921934\n",
      "Validation loss:  0.05052381585396472\n"
     ]
    },
    {
     "name": "stderr",
     "output_type": "stream",
     "text": [
      "Epoch 34 [train]: 100%|██████████| 195/195 [00:04<00:00, 45.86batch/s, batch_loss=0.0221]\n",
      "Epoch 34 [val]: 100%|██████████| 42/42 [00:00<00:00, 57.47batch/s, batch_loss=0.0315]\n"
     ]
    },
    {
     "name": "stdout",
     "output_type": "stream",
     "text": [
      "Train loss:  0.047634182402338736\n",
      "Validation loss:  0.047338349744677544\n"
     ]
    },
    {
     "name": "stderr",
     "output_type": "stream",
     "text": [
      "Epoch 35 [train]: 100%|██████████| 195/195 [00:04<00:00, 46.94batch/s, batch_loss=0.0401]\n",
      "Epoch 35 [val]: 100%|██████████| 42/42 [00:00<00:00, 55.91batch/s, batch_loss=0.0413]\n"
     ]
    },
    {
     "name": "stdout",
     "output_type": "stream",
     "text": [
      "Train loss:  0.04796107676930916\n",
      "Validation loss:  0.04757003823206538\n"
     ]
    },
    {
     "name": "stderr",
     "output_type": "stream",
     "text": [
      "Epoch 36 [train]: 100%|██████████| 195/195 [00:04<00:00, 46.14batch/s, batch_loss=0.0171]\n",
      "Epoch 36 [val]: 100%|██████████| 42/42 [00:00<00:00, 57.52batch/s, batch_loss=0.0256]\n"
     ]
    },
    {
     "name": "stdout",
     "output_type": "stream",
     "text": [
      "Train loss:  0.04624804722575041\n",
      "Validation loss:  0.047932034047941365\n"
     ]
    },
    {
     "name": "stderr",
     "output_type": "stream",
     "text": [
      "Epoch 37 [train]: 100%|██████████| 195/195 [00:04<00:00, 47.11batch/s, batch_loss=0.0655]\n",
      "Epoch 37 [val]: 100%|██████████| 42/42 [00:00<00:00, 57.50batch/s, batch_loss=0.0551]\n"
     ]
    },
    {
     "name": "stdout",
     "output_type": "stream",
     "text": [
      "Train loss:  0.046040873191295524\n",
      "Validation loss:  0.04968527287599586\n"
     ]
    },
    {
     "name": "stderr",
     "output_type": "stream",
     "text": [
      "Epoch 38 [train]: 100%|██████████| 195/195 [00:04<00:00, 46.56batch/s, batch_loss=0.0462]\n",
      "Epoch 38 [val]: 100%|██████████| 42/42 [00:00<00:00, 58.26batch/s, batch_loss=0.0588]\n"
     ]
    },
    {
     "name": "stdout",
     "output_type": "stream",
     "text": [
      "Train loss:  0.046732174089321725\n",
      "Validation loss:  0.051197112670966556\n"
     ]
    },
    {
     "name": "stderr",
     "output_type": "stream",
     "text": [
      "Epoch 39 [train]: 100%|██████████| 195/195 [00:04<00:00, 46.18batch/s, batch_loss=0.0697]\n",
      "Epoch 39 [val]: 100%|██████████| 42/42 [00:00<00:00, 57.71batch/s, batch_loss=0.0594]\n"
     ]
    },
    {
     "name": "stdout",
     "output_type": "stream",
     "text": [
      "Train loss:  0.04561169065344028\n",
      "Validation loss:  0.04785453319726955\n"
     ]
    },
    {
     "name": "stderr",
     "output_type": "stream",
     "text": [
      "Epoch 40 [train]: 100%|██████████| 195/195 [00:04<00:00, 46.10batch/s, batch_loss=0.0302]\n",
      "Epoch 40 [val]: 100%|██████████| 42/42 [00:00<00:00, 57.38batch/s, batch_loss=0.0374]\n"
     ]
    },
    {
     "name": "stdout",
     "output_type": "stream",
     "text": [
      "Train loss:  0.04649401809542607\n",
      "Validation loss:  0.045927832346586955\n"
     ]
    },
    {
     "name": "stderr",
     "output_type": "stream",
     "text": [
      "Epoch 41 [train]: 100%|██████████| 195/195 [00:04<00:00, 46.53batch/s, batch_loss=0.0952]\n",
      "Epoch 41 [val]: 100%|██████████| 42/42 [00:00<00:00, 57.99batch/s, batch_loss=0.0595]\n"
     ]
    },
    {
     "name": "stdout",
     "output_type": "stream",
     "text": [
      "Train loss:  0.04606855667363375\n",
      "Validation loss:  0.04887339831995113\n"
     ]
    },
    {
     "name": "stderr",
     "output_type": "stream",
     "text": [
      "Epoch 42 [train]: 100%|██████████| 195/195 [00:04<00:00, 46.63batch/s, batch_loss=0.0297]\n",
      "Epoch 42 [val]: 100%|██████████| 42/42 [00:00<00:00, 57.44batch/s, batch_loss=0.0257]\n"
     ]
    },
    {
     "name": "stdout",
     "output_type": "stream",
     "text": [
      "Train loss:  0.04541314494533417\n",
      "Validation loss:  0.04707181012435328\n"
     ]
    },
    {
     "name": "stderr",
     "output_type": "stream",
     "text": [
      "Epoch 43 [train]: 100%|██████████| 195/195 [00:04<00:00, 47.20batch/s, batch_loss=0.0934]\n",
      "Epoch 43 [val]: 100%|██████████| 42/42 [00:00<00:00, 57.62batch/s, batch_loss=0.0308]\n"
     ]
    },
    {
     "name": "stdout",
     "output_type": "stream",
     "text": [
      "Train loss:  0.04543885320233993\n",
      "Validation loss:  0.04892560564691112\n"
     ]
    },
    {
     "name": "stderr",
     "output_type": "stream",
     "text": [
      "Epoch 44 [train]: 100%|██████████| 195/195 [00:04<00:00, 46.13batch/s, batch_loss=0.0887]\n",
      "Epoch 44 [val]: 100%|██████████| 42/42 [00:00<00:00, 57.47batch/s, batch_loss=0.0473]\n"
     ]
    },
    {
     "name": "stdout",
     "output_type": "stream",
     "text": [
      "Train loss:  0.04507409908259526\n",
      "Validation loss:  0.05274895383488564\n"
     ]
    },
    {
     "name": "stderr",
     "output_type": "stream",
     "text": [
      "Epoch 45 [train]: 100%|██████████| 195/195 [00:04<00:00, 47.24batch/s, batch_loss=0.0769]\n",
      "Epoch 45 [val]: 100%|██████████| 42/42 [00:00<00:00, 57.86batch/s, batch_loss=0.0375]\n"
     ]
    },
    {
     "name": "stdout",
     "output_type": "stream",
     "text": [
      "Train loss:  0.04785466541846593\n",
      "Validation loss:  0.049877678886765524\n"
     ]
    },
    {
     "name": "stderr",
     "output_type": "stream",
     "text": [
      "Epoch 46 [train]: 100%|██████████| 195/195 [00:04<00:00, 45.48batch/s, batch_loss=0.0248]\n",
      "Epoch 46 [val]: 100%|██████████| 42/42 [00:00<00:00, 57.84batch/s, batch_loss=0.0334]\n"
     ]
    },
    {
     "name": "stdout",
     "output_type": "stream",
     "text": [
      "Train loss:  0.04550086959050252\n",
      "Validation loss:  0.05074301770045644\n"
     ]
    },
    {
     "name": "stderr",
     "output_type": "stream",
     "text": [
      "Epoch 47 [train]: 100%|██████████| 195/195 [00:04<00:00, 45.56batch/s, batch_loss=0.0299]\n",
      "Epoch 47 [val]: 100%|██████████| 42/42 [00:00<00:00, 57.71batch/s, batch_loss=0.0365]\n"
     ]
    },
    {
     "name": "stdout",
     "output_type": "stream",
     "text": [
      "Train loss:  0.044282891219243024\n",
      "Validation loss:  0.05002757454557078\n"
     ]
    },
    {
     "name": "stderr",
     "output_type": "stream",
     "text": [
      "Epoch 48 [train]: 100%|██████████| 195/195 [00:04<00:00, 46.43batch/s, batch_loss=0.0697]\n",
      "Epoch 48 [val]: 100%|██████████| 42/42 [00:00<00:00, 57.66batch/s, batch_loss=0.0359]\n"
     ]
    },
    {
     "name": "stdout",
     "output_type": "stream",
     "text": [
      "Train loss:  0.044929463788866995\n",
      "Validation loss:  0.046282230698991386\n"
     ]
    },
    {
     "name": "stderr",
     "output_type": "stream",
     "text": [
      "Epoch 49 [train]: 100%|██████████| 195/195 [00:04<00:00, 46.36batch/s, batch_loss=0.0666]\n",
      "Epoch 49 [val]: 100%|██████████| 42/42 [00:00<00:00, 58.05batch/s, batch_loss=0.0295]\n"
     ]
    },
    {
     "name": "stdout",
     "output_type": "stream",
     "text": [
      "Train loss:  0.04464751856449323\n",
      "Validation loss:  0.04664261337547075\n"
     ]
    },
    {
     "name": "stderr",
     "output_type": "stream",
     "text": [
      "Epoch 50 [train]: 100%|██████████| 195/195 [00:04<00:00, 46.52batch/s, batch_loss=0.0313]\n",
      "Epoch 50 [val]: 100%|██████████| 42/42 [00:00<00:00, 57.70batch/s, batch_loss=0.0318]"
     ]
    },
    {
     "name": "stdout",
     "output_type": "stream",
     "text": [
      "Train loss:  0.04414912099735095\n",
      "Validation loss:  0.047767767017441135\n",
      "Early stopping at epoch 50\n"
     ]
    },
    {
     "name": "stderr",
     "output_type": "stream",
     "text": [
      "\n"
     ]
    }
   ],
   "source": [
    "\n",
    "\n",
    "# Define the loss function\n",
    "criterion = nn.MSELoss()\n",
    "\n",
    "# Get all the parameters excepts the weights and bias of fc layer\n",
    "base_params = [param for name, param in model.named_parameters()\n",
    "               if name not in [\"classifier.1.weight\", \"classifier.1.bias\"]]\n",
    "\n",
    "# Define the optimizer, with a greater learning rate for the new fc layer\n",
    "optimizer = optim.SGD([\n",
    "    {\"params\": base_params},\n",
    "    {\"params\": model.classifier.parameters(), \"lr\": 1e-3},\n",
    "],\n",
    "    lr=1e-3, momentum=0.9, weight_decay=0.001)\n",
    "\n",
    "# An epoch is one complete pass of the training dataset through the network\n",
    "NB_EPOCHS = 100\n",
    "\n",
    "# Number of epochs we wait for the loss to decrease before stopping\n",
    "# the training process early\n",
    "patience = 10\n",
    "\n",
    "best_val_loss = float('inf')\n",
    "best_epoch = 0\n",
    "\n",
    "loss_values = torch.zeros(2, NB_EPOCHS)\n",
    "\n",
    "# Loop over the epochs\n",
    "for epoch in range(NB_EPOCHS):\n",
    "    \n",
    "    # Training\n",
    "    train_loss = 0.\n",
    "    \n",
    "    # Configure the model for training\n",
    "    # (good practice, only necessary if the model operates differently for\n",
    "    # training and validation)\n",
    "    model.train()\n",
    "    \n",
    "    # Add a progress bar\n",
    "    train_loader_pbar = tqdm(train_loader, unit=\"batch\")\n",
    "    \n",
    "    # Loop over the training batches\n",
    "    for images, traversal_costs, _ in train_loader_pbar:\n",
    "        \n",
    "        # Print the epoch and training mode\n",
    "        train_loader_pbar.set_description(f\"Epoch {epoch} [train]\")\n",
    "        \n",
    "        # Move images and traversal scores to GPU (if available)\n",
    "        images = images.to(device)\n",
    "        traversal_costs = traversal_costs.type(torch.FloatTensor).to(device)\n",
    "        \n",
    "        # Zero out gradients before each backpropagation pass, to avoid that\n",
    "        # they accumulate\n",
    "        optimizer.zero_grad()\n",
    "        \n",
    "        # Perform forward pass\n",
    "        predicted_traversal_costs = model(images)\n",
    "        \n",
    "        # Compute loss \n",
    "        loss = criterion(predicted_traversal_costs[:, 0], traversal_costs)\n",
    "        \n",
    "        # Print the batch loss next to the progress bar\n",
    "        train_loader_pbar.set_postfix(batch_loss=loss.item())\n",
    "        \n",
    "        # Perform backpropagation (update weights)\n",
    "        loss.backward()\n",
    "        \n",
    "        # Adjust parameters based on gradients\n",
    "        optimizer.step()\n",
    "        \n",
    "        # Accumulate batch loss to average over the epoch\n",
    "        train_loss += loss.item()\n",
    "    \n",
    "    \n",
    "    # Validation\n",
    "    val_loss = 0.\n",
    "    \n",
    "    # Configure the model for testing\n",
    "    # (turn off dropout layers, batchnorm layers, etc)\n",
    "    model.eval()\n",
    "    \n",
    "    # Add a progress bar\n",
    "    val_loader_pbar = tqdm(val_loader, unit=\"batch\")\n",
    "    \n",
    "    # Turn off gradients computation (the backward computational graph is built during\n",
    "    # the forward pass and weights are updated during the backward pass, here we avoid\n",
    "    # building the graph)\n",
    "    with torch.no_grad():\n",
    "        # Loop over the validation batches\n",
    "        for images, traversal_costs, _ in val_loader_pbar:\n",
    "\n",
    "            # Print the epoch and validation mode\n",
    "            val_loader_pbar.set_description(f\"Epoch {epoch} [val]\")\n",
    "\n",
    "            # Move images and traversal scores to GPU (if available)\n",
    "            images = images.to(device)\n",
    "            traversal_costs = traversal_costs.type(torch.FloatTensor).to(device)\n",
    "            \n",
    "            # Perform forward pass (only, no backpropagation)\n",
    "            predicted_traversal_costs = model(images)\n",
    "\n",
    "            # Compute loss\n",
    "            loss = criterion(predicted_traversal_costs[:, 0], traversal_costs)\n",
    "            # Print the batch loss next to the progress bar\n",
    "            val_loader_pbar.set_postfix(batch_loss=loss.item())\n",
    "\n",
    "            # Accumulate batch loss to average over the epoch\n",
    "            val_loss += loss.item()\n",
    "            \n",
    "    \n",
    "    # Compute the losses\n",
    "    train_loss /= len(train_loader)\n",
    "    val_loss /= len(val_loader)\n",
    "    \n",
    "    print(\"Train loss: \", train_loss)\n",
    "    print(\"Validation loss: \", val_loss)\n",
    "    \n",
    "    # Store the computed losses\n",
    "    loss_values[0, epoch] = train_loss\n",
    "    loss_values[1, epoch] = val_loss\n",
    "    \n",
    "    # Add the losses to TensorBoard\n",
    "    tensorboard.add_scalar(\"train_loss\", train_loss, epoch)\n",
    "    tensorboard.add_scalar(\"val_loss\", val_loss, epoch)\n",
    "    \n",
    "    # Early stopping based on validation loss: stop the training if the\n",
    "    # loss has not improved for the last 5 epochs\n",
    "    if val_loss < best_val_loss:\n",
    "        best_val_loss = val_loss\n",
    "        best_epoch = epoch\n",
    "    \n",
    "    elif epoch - best_epoch >= patience:\n",
    "        print(f'Early stopping at epoch {epoch}')\n",
    "        break\n",
    "\n",
    "# Close TensorBoard\n",
    "tensorboard.close()"
   ]
  },
  {
   "attachments": {},
   "cell_type": "markdown",
   "metadata": {},
   "source": [
    "### Visualization"
   ]
  },
  {
   "cell_type": "code",
   "execution_count": 11,
   "metadata": {},
   "outputs": [
    {
     "data": {
      "image/png": "[encoded data removed]",
      "text/plain": [
       "<Figure size 432x288 with 1 Axes>"
      ]
     },
     "metadata": {
      "needs_background": "light"
     },
     "output_type": "display_data"
    }
   ],
   "source": [
    "import matplotlib\n",
    "matplotlib.rcParams['text.usetex'] = False\n",
    "import matplotlib.pyplot as plt\n",
    "\n",
    "# Loss\n",
    "indices = loss_values[0] != 0\n",
    "train_losses = loss_values[0][indices]\n",
    "val_losses = loss_values[1][indices]\n",
    "\n",
    "plt.plot(train_losses, label=\"train loss\")\n",
    "plt.plot(val_losses, label=\"validation loss\")\n",
    "\n",
    "plt.legend()\n",
    "plt.xlabel(\"Epoch\")\n",
    "plt.ylabel(\"Loss\")\n",
    "plt.title(\"Training and Validation Losses (MSE)\")\n",
    "plt.show()"
   ]
  },
  {
   "attachments": {},
   "cell_type": "markdown",
   "metadata": {},
   "source": [
    "### Testing"
   ]
  },
  {
   "cell_type": "code",
   "execution_count": 12,
   "metadata": {},
   "outputs": [
    {
     "name": "stdout",
     "output_type": "stream",
     "text": [
      "Test loss:  0.04919623183883936\n"
     ]
    }
   ],
   "source": [
    "# Testing\n",
    "test_loss = 0.\n",
    "\n",
    "# Configure the model for testing\n",
    "model.eval()\n",
    "\n",
    "with torch.no_grad():\n",
    "    # Loop over the testing batches\n",
    "    for images, traversal_costs, _ in test_loader:\n",
    "        \n",
    "        images = images.to(device)\n",
    "        traversal_costs = traversal_costs.to(device)\n",
    "        \n",
    "        # Perform forward pass\n",
    "        predicted_traversal_costs = model(images)\n",
    "        \n",
    "        # Compute loss\n",
    "        loss = criterion(predicted_traversal_costs[:, 0], traversal_costs)\n",
    "        \n",
    "        # Accumulate batch loss to average of the entire testing set\n",
    "        test_loss += loss.item()\n",
    "        \n",
    "# Compute the loss and accuracy\n",
    "test_loss /= len(test_loader)\n",
    "\n",
    "print(\"Test loss: \", test_loss)"
   ]
  },
  {
   "cell_type": "code",
   "execution_count": 13,
   "metadata": {},
   "outputs": [
    {
     "name": "stdout",
     "output_type": "stream",
     "text": [
      "Output:\n",
      " tensor([[1.9067],\n",
      "        [1.3779],\n",
      "        [1.8289],\n",
      "        [1.8622],\n",
      "        [1.8467],\n",
      "        [1.6435],\n",
      "        [1.7196],\n",
      "        [1.7600],\n",
      "        [1.7562],\n",
      "        [1.8696],\n",
      "        [1.4030],\n",
      "        [1.4746],\n",
      "        [1.8216],\n",
      "        [1.8370],\n",
      "        [1.5567],\n",
      "        [1.9565],\n",
      "        [1.5578],\n",
      "        [1.7571],\n",
      "        [1.9623],\n",
      "        [1.4862],\n",
      "        [1.8262],\n",
      "        [1.6685],\n",
      "        [1.4711],\n",
      "        [1.8584],\n",
      "        [1.7102],\n",
      "        [1.4451]], device='cuda:0')\n",
      "Ground truth:\n",
      " tensor([1.4431, 1.8142, 1.4213, 1.8988, 1.6864, 1.0896, 1.3164, 1.1830, 1.9168,\n",
      "        1.0740, 1.7578, 1.9497, 1.1054, 1.4927, 2.1730, 1.6349, 1.9143, 1.6020,\n",
      "        1.8331, 2.0072, 1.7344, 1.1041, 1.8847, 1.4045, 0.9980, 2.2835, 1.8514,\n",
      "        1.1247, 2.0487, 1.2955, 1.9082, 1.9524], device='cuda:0',\n",
      "       dtype=torch.float64)\n"
     ]
    }
   ],
   "source": [
    "images, traversal_costs, _ = next(iter(test_loader))\n",
    "\n",
    "images = images.to(device)\n",
    "traversal_costs = traversal_costs.to(device)\n",
    "\n",
    "predicted_traversal_scores = model(images)\n",
    "# predicted_traversal_scores = nn.Softmax(dim=1)(model(images))\n",
    "\n",
    "print(\"Output:\\n\", predicted_traversal_costs)\n",
    "print(\"Ground truth:\\n\", traversal_costs)\n",
    "\n",
    "# print(predicted_traversal_scores-traversal_scores)\n",
    "\n",
    "# predicted_traversal_scores = predicted_traversal_scores.to(\"cpu\").detach().numpy()\n",
    "# plt.hist(predicted_traversal_scores)"
   ]
  },
  {
   "cell_type": "code",
   "execution_count": null,
   "metadata": {},
   "outputs": [],
   "source": [
    "traversal_costs_train = []\n",
    "\n",
    "for _, score, _ in train_set:\n",
    "    traversal_costs_train.append(score)\n",
    "    \n",
    "plt.hist(traversal_costs_train, bins=10)\n",
    "plt.xlabel(\"Traversal Cost\")\n",
    "plt.ylabel(\"Count\")\n",
    "plt.title(\"Histogram of Traversal Costs (Training Set)\")\n",
    "plt.show()"
   ]
  },
  {
   "attachments": {},
   "cell_type": "markdown",
   "metadata": {},
   "source": [
    "### Save model parameters"
   ]
  },
  {
   "cell_type": "code",
   "execution_count": 14,
   "metadata": {},
   "outputs": [
    {
     "data": {
      "image/png": "[encoded data removed]",
      "text/plain": [
       "<Figure size 432x288 with 1 Axes>"
      ]
     },
     "metadata": {
      "needs_background": "light"
     },
     "output_type": "display_data"
    }
   ],
   "source": [
    "# Save the model parameters\n",
    "torch.save(model.state_dict(), \"v2_mobilenet.params\")"
   ]
  }
 ],
 "metadata": {
  "kernelspec": {
   "display_name": "base",
   "language": "python",
   "name": "python3"
  },
  "language_info": {
   "codemirror_mode": {
    "name": "ipython",
    "version": 3
   },
   "file_extension": ".py",
   "mimetype": "text/x-python",
   "name": "python",
   "nbconvert_exporter": "python",
   "pygments_lexer": "ipython3",
   "version": "3.9.12"
  },
  "orig_nbformat": 4,
  "vscode": {
   "interpreter": {
    "hash": "b41780248731413e84842f51b5f7cba9458d17cab322c1e6e009edd67950520d"
   }
  }
 },
 "nbformat": 4,
 "nbformat_minor": 2
}
